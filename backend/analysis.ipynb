{
 "cells": [
  {
   "cell_type": "markdown",
   "id": "cbb96fdc",
   "metadata": {},
   "source": [
    "Смотрим, что представляют из себя данные по потребительским расходам"
   ]
  },
  {
   "cell_type": "code",
   "execution_count": null,
   "id": "1a7834f8",
   "metadata": {},
   "outputs": [],
   "source": [
    "import pandas as pd\n",
    "\n",
    "df = pd.read_parquet('')"
   ]
  }
 ],
 "metadata": {
  "kernelspec": {
   "display_name": "Python 3",
   "language": "python",
   "name": "python3"
  },
  "language_info": {
   "name": "python",
   "version": "3.9.7"
  }
 },
 "nbformat": 4,
 "nbformat_minor": 5
}
